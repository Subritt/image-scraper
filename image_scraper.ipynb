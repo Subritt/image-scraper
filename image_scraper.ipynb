{
 "cells": [
  {
   "cell_type": "code",
   "execution_count": 48,
   "id": "22e8e4bb",
   "metadata": {},
   "outputs": [],
   "source": [
    "import requests\n",
    "import logging\n",
    "import os\n",
    "from bs4 import BeautifulSoup\n",
    "from urllib.request import urlopen"
   ]
  },
  {
   "cell_type": "markdown",
   "id": "c15a7716",
   "metadata": {},
   "source": [
    "flask <br />\n",
    "flask_cors <br />\n",
    "requests <br />\n",
    "bs4"
   ]
  },
  {
   "cell_type": "code",
   "execution_count": 49,
   "id": "39b164ed",
   "metadata": {},
   "outputs": [],
   "source": [
    "save_dir = \"images/\"\n",
    "if not os.path.exists(save_dir):\n",
    "    os.makedirs(save_dir)"
   ]
  },
  {
   "cell_type": "code",
   "execution_count": 50,
   "id": "eb5ed765",
   "metadata": {},
   "outputs": [],
   "source": [
    "query = \"elon musk\"\n",
    "url = f'https://www.google.com/search?sxsrf=AB5stBiGplLyy4ouAUXfyE4DAgxHeN4AyQ:1690691724371&q={query}&tbm=isch&source=lnms&sa=X&ved=2ahUKEwiZmZ-9zbWAAxUxumMGHcMNAlAQ0pQJegQIDRAB&biw=1309&bih=809&dpr=2.2'"
   ]
  },
  {
   "cell_type": "code",
   "execution_count": 51,
   "id": "12d26d17",
   "metadata": {},
   "outputs": [],
   "source": [
    "response = requests.get(url)"
   ]
  },
  {
   "cell_type": "code",
   "execution_count": 52,
   "id": "e9b52d6c",
   "metadata": {},
   "outputs": [
    {
     "data": {
      "text/plain": [
       "<Response [200]>"
      ]
     },
     "execution_count": 52,
     "metadata": {},
     "output_type": "execute_result"
    }
   ],
   "source": [
    "response"
   ]
  },
  {
   "cell_type": "code",
   "execution_count": 53,
   "id": "5e647b05",
   "metadata": {},
   "outputs": [],
   "source": [
    "soup = BeautifulSoup(response.content, 'html.parser')"
   ]
  },
  {
   "cell_type": "code",
   "execution_count": 54,
   "id": "27986e52",
   "metadata": {},
   "outputs": [],
   "source": [
    "image_tag = soup.find_all('img')"
   ]
  },
  {
   "cell_type": "code",
   "execution_count": 55,
   "id": "0064e56b",
   "metadata": {},
   "outputs": [],
   "source": [
    "del image_tag[0]"
   ]
  },
  {
   "cell_type": "code",
   "execution_count": 56,
   "id": "487a8814",
   "metadata": {},
   "outputs": [
    {
     "data": {
      "text/plain": [
       "[<img alt=\"\" class=\"yWs4tf\" src=\"https://encrypted-tbn0.gstatic.com/images?q=tbn:ANd9GcT0zOoinJSPY5-LpriVUlZxKHbhY1ZDw59SwcLQKjECd0_jDYz_2fHWTksS9PE&amp;s\"/>,\n",
       " <img alt=\"\" class=\"yWs4tf\" src=\"https://encrypted-tbn0.gstatic.com/images?q=tbn:ANd9GcSJaopQF1rdWhwmr7m77uxo0VCYQTxkktn89EN7f9JqwLBW89SKMl2x7H7083k&amp;s\"/>,\n",
       " <img alt=\"\" class=\"yWs4tf\" src=\"https://encrypted-tbn0.gstatic.com/images?q=tbn:ANd9GcQY_R5NSNoZkSlMo3hf86COGJ4fCv0s6Nx4k8uCGkWc6YGOn_m4-rIOQ3GhOhg&amp;s\"/>,\n",
       " <img alt=\"\" class=\"yWs4tf\" src=\"https://encrypted-tbn0.gstatic.com/images?q=tbn:ANd9GcRx-Yb54zKfM4FiiRZ9f8qc1G1OT6t9dhtd2bMCNjAAhEfiv6tv7nYtt4ZbY6Q&amp;s\"/>,\n",
       " <img alt=\"\" class=\"yWs4tf\" src=\"https://encrypted-tbn0.gstatic.com/images?q=tbn:ANd9GcRi6VsY0O4Rwi4daY2t-PuvdJGdeLzaZDeakW3gypf8wEN6zzIP7g1IsEv8008&amp;s\"/>,\n",
       " <img alt=\"\" class=\"yWs4tf\" src=\"https://encrypted-tbn0.gstatic.com/images?q=tbn:ANd9GcQpk3jJ86Eohb2rwfQR_GzzyHCIppuyGWtOXQkVsvfOwmJMdCpXGtK5TwjSgw&amp;s\"/>,\n",
       " <img alt=\"\" class=\"yWs4tf\" src=\"https://encrypted-tbn0.gstatic.com/images?q=tbn:ANd9GcRUNt-70ZeRtX94MTAGG_0jct8icPN38L_0vC8ub8XMMGdqXlbjk3aWVvEiX6c&amp;s\"/>,\n",
       " <img alt=\"\" class=\"yWs4tf\" src=\"https://encrypted-tbn0.gstatic.com/images?q=tbn:ANd9GcTC89VlGhGnhkhZndkkr2qctknVSv-Y-y_uMdwFuVYiN0IesWcxFipg37JKow&amp;s\"/>,\n",
       " <img alt=\"\" class=\"yWs4tf\" src=\"https://encrypted-tbn0.gstatic.com/images?q=tbn:ANd9GcQMTekpXsdQimyWEzTNJPNJIGrW8b2vKvoQaDbJDSfuZHQh29b-oKubE1bBYC0&amp;s\"/>,\n",
       " <img alt=\"\" class=\"yWs4tf\" src=\"https://encrypted-tbn0.gstatic.com/images?q=tbn:ANd9GcRgjtOpqKOBVVsskv9whJk8Eb-aZ-Emx59T4ieHAs80SwQU86PzA_yuxjRVE-A&amp;s\"/>,\n",
       " <img alt=\"\" class=\"yWs4tf\" src=\"https://encrypted-tbn0.gstatic.com/images?q=tbn:ANd9GcT8OIn5WlHeQaweeHJM3W_8Zx0uP8jmv5THBdUf7LOe2VviuXhFIyHjdwBqQkQ&amp;s\"/>,\n",
       " <img alt=\"\" class=\"yWs4tf\" src=\"https://encrypted-tbn0.gstatic.com/images?q=tbn:ANd9GcQYT-beWXhhv_SWOWPN9WTqrBImmSSvhoow2B-381sc7q_Zq9z6qBWYujWvcw&amp;s\"/>,\n",
       " <img alt=\"\" class=\"yWs4tf\" src=\"https://encrypted-tbn0.gstatic.com/images?q=tbn:ANd9GcTTCwkrB0WHyxlEZoU7ose0__nvdx44368eqpGm-Hq9zk-rN9LTTplKFiJ-2cQ&amp;s\"/>,\n",
       " <img alt=\"\" class=\"yWs4tf\" src=\"https://encrypted-tbn0.gstatic.com/images?q=tbn:ANd9GcTvewo3-e7y-JsV16EL3q3EaMThVwCiuN7DD1_KTctFNodySZtMVcuOKk5uUQ&amp;s\"/>,\n",
       " <img alt=\"\" class=\"yWs4tf\" src=\"https://encrypted-tbn0.gstatic.com/images?q=tbn:ANd9GcSAml6qsvttMXVIK2cnwNa7LqMi_VvKaRFZcmLSDDbyAiARR95xf8qQVYyxog&amp;s\"/>,\n",
       " <img alt=\"\" class=\"yWs4tf\" src=\"https://encrypted-tbn0.gstatic.com/images?q=tbn:ANd9GcSN7zClqhDt7XifCzMEd5nGpTJ2BRruI3trKZJKLWF5tvPcpVR1yKzEY3gHN6o&amp;s\"/>,\n",
       " <img alt=\"\" class=\"yWs4tf\" src=\"https://encrypted-tbn0.gstatic.com/images?q=tbn:ANd9GcS6mPr1g683xgMlTnJfswzPyIjixDUJCLKR_GUOYd43dGj0LB8Uum64r_cOjl4&amp;s\"/>,\n",
       " <img alt=\"\" class=\"yWs4tf\" src=\"https://encrypted-tbn0.gstatic.com/images?q=tbn:ANd9GcQ91bYeYuNi93Snai-G61-ct5IkXUEpoeW1RpiOFFuRWggNeJf-7uN0OZsy5XI&amp;s\"/>,\n",
       " <img alt=\"\" class=\"yWs4tf\" src=\"https://encrypted-tbn0.gstatic.com/images?q=tbn:ANd9GcQfbfalnKU6a2DBCO8BwcTX_DA7vH9_lEYKqCAYLwccIvgGK9BL22tYwOUyVg&amp;s\"/>,\n",
       " <img alt=\"\" class=\"yWs4tf\" src=\"https://encrypted-tbn0.gstatic.com/images?q=tbn:ANd9GcTajsryULnUhibLm7EAy_8EkoDdfDf-C3MgzuCkCs3my64MQcQxf4O63e74kEI&amp;s\"/>]"
      ]
     },
     "execution_count": 56,
     "metadata": {},
     "output_type": "execute_result"
    }
   ],
   "source": [
    "image_tag"
   ]
  },
  {
   "cell_type": "code",
   "execution_count": 58,
   "id": "5c9ab20d",
   "metadata": {},
   "outputs": [
    {
     "name": "stdout",
     "output_type": "stream",
     "text": [
      "https://encrypted-tbn0.gstatic.com/images?q=tbn:ANd9GcT0zOoinJSPY5-LpriVUlZxKHbhY1ZDw59SwcLQKjECd0_jDYz_2fHWTksS9PE&s\n"
     ]
    }
   ],
   "source": [
    "print(image_tag[0]['src'])"
   ]
  },
  {
   "cell_type": "code",
   "execution_count": 61,
   "id": "6febe169",
   "metadata": {},
   "outputs": [
    {
     "data": {
      "text/plain": [
       "b'\\xff\\xd8\\xff\\xe0\\x00\\x10JFIF\\x00\\x01\\x01\\x00\\x00\\x01\\x00\\x01\\x00\\x00\\xff\\xdb\\x00\\x84\\x00\\t\\x06\\x07\\x08\\x07\\x06\\t\\x08\\x07\\x08\\n\\n\\t\\x0b\\r\\x16\\x0f\\r\\x0c\\x0c\\r\\x1b\\x14\\x15\\x10\\x16 \\x1d\"\" \\x1d\\x1f\\x1f$(4,$&1\\'\\x1f\\x1f-=-157:::#+?D?8C49:7\\x01\\n\\n\\n\\r\\x0c\\r\\x1a\\x0f\\x0f\\x1a7%\\x1f%77777777777777777777777777777777777777777777777777\\xff\\xc0\\x00\\x11\\x08\\x00l\\x00\\xa2\\x03\\x01\"\\x00\\x02\\x11\\x01\\x03\\x11\\x01\\xff\\xc4\\x00\\x1b\\x00\\x00\\x02\\x02\\x03\\x01\\x00\\x00\\x00\\x00\\x00\\x00\\x00\\x00\\x00\\x00\\x00\\x00\\x01\\x02\\x06\\x03\\x04\\x05\\x07\\xff\\xc4\\x007\\x10\\x00\\x01\\x03\\x03\\x01\\x06\\x04\\x04\\x04\\x06\\x03\\x01\\x00\\x00\\x00\\x00\\x01\\x00\\x02\\x03\\x04\\x05\\x11!\\x06\\x12\\x131AQ\\x14\"aq\\x072\\x81\\x91BR\\xa1\\xc1\\x15#\\xb1\\xd1\\xe1\\xf0Sr\\x923\\xff\\xc4\\x00\\x19\\x01\\x01\\x00\\x03\\x01\\x01\\x00\\x00\\x00\\x00\\x00\\x00\\x00\\x00\\x00\\x00\\x00\\x00\\x01\\x02\\x03\\x04\\x05\\xff\\xc4\\x00\\x1f\\x11\\x01\\x01\\x00\\x02\\x03\\x01\\x00\\x03\\x01\\x00\\x00\\x00\\x00\\x00\\x00\\x00\\x00\\x01\\x02\\x11\\x03!1\\x12\"AR\\x04\\xff\\xda\\x00\\x0c\\x03\\x01\\x00\\x02\\x11\\x03\\x11\\x00?\\x00\\xf0\\xd4!\\x08\\x04\\xd2M\\x03B\\x10\\x80M\\x08@\\xd3\\x01% \\x89\\x00,\\x91C$\\xcf\\xdc\\x867\\xc8\\xff\\x00\\xca\\xc6\\x97\\x1f\\xb0[6\\x9aO\\x1bp\\x82\\x9b\\x0e<G\\xe0\\x86\\xf3\\xc73\\x8f\\xa0*\\xf9-eIa\\xa7\\xb1\\xd3\\x9f\\x0b\\x00\\r&\\x08p\\x0e;\\x91\\xcf\\xaf3\\xaa\\xad\\xcbI\\x93j\\x19\\xb4\\xdcCw\\x8d\\xba\\xb0\\x0e\\xfe\\x1d\\xff\\x00\\xd9j\\xbd\\x8e\\x8d\\xe5\\x8fik\\x81\\xc1\\x04`\\xab\\xa1\\xbb\\\\\\xe8\\x9d\\x89\\x03\\xc6A\\xd0\\xe4-Z\\xeb\\xbc7\\x06\\xb9\\xb7\\x1af<\\x96\\xe0K\\xbb\\xe7\\x1e\\xc7\\x9aL\\x93q\\xd2\\xa3\\x8dPVz\\xa8L\\x13\\xbd\\x99\\xcbA\\xf2\\x9e\\xe1aVU\\x14\\x94\\x92@\\x90\\x9aH\\x80\\x84!\\x04\\x10\\x84 \\x13\\t&\\x104!4\\x02a$\\xc2\\t\\x00\\xa4\\x06\\xaa#\\x92\\x9bB%\\xe8\\xbf\\x08\\xad\\x11\\\\\\xa6\\xb9\\t\\x86\\xe0,k\\x0c\\xb8\\xf35\\xb9\\xc9\\r\\xed\\x9d5^\\xc6c\\xa5\\xa5\\xb6\\xc1Cn\\x85\\xb0S\\xc41\\xc3o/s\\xdc\\xfa\\xaf3\\xf8@[Aa\\xae\\xad\\x9a7<>\\xa7q\\x8di\\x00\\xbb\\r\\x1f\\xef\\xd1\\\\\\xa3\\xda8\\xea\\xa4\\xe1xW\\xc2Fw[\\xbc\\x1c\\x08\\xee\\x1c\\x0e\\n\\xc7,\\xbbo\\xc5\\x86\\xfbd\\xaf\\xa0\\xa5\\x9f\\x02\\xa2\\x08\\x9f\\x9ed\\xb4*u\\xfbem5\\x1cO\\x0e\\xde\\x0c\\x9f\\x85\\xcc:}\\x95\\x96\\xb6\\xfdk`\\xdd\\x9e\\xa5\\xb1\\xbb\\x96\\xe9\\xc99\\xfa.EMD[\\xbcH\\xde\\xd7\\x0ce\\xa7++l\\xf1\\xd3\\xf3,\\xd5y\\x05u\\x14\\xd4\\xd3\\xcbO6r\\xd7\\x10\\t\\xee\\xb9\\x85X\\xef\\x95-\\x96\\xb2\\xa0\\xb8rq\\xd3\\xd5WJ\\xea\\x9e<\\xfb\\xea%%\"\\xa2T\\x81\\x08B\\x01\\x08B!\\x8d\\x08M\\x00\\x80\\x84\\x04\\r4\\x93@\\x05$\\x93\\x08\\x93\\x0b#T\\x02\\xc8\\xd4\\x1e\\xd3\\xf0\\xd6\\nW\\xec4t\\xd5ll\\x86\\xa2Y$\\xc3\\xb5\\x1f1\\x19\\xfd\\x17f\\x9a\\xdbImk\\xa7\\x828\\xdaca\\x03\\x86\\xcd\\xd0\\xd0s\\xcf\\xd5qvdxm\\x96\\xb7>3\\xb8\\xcf\\n\\xc2]\\xd09\\xda\\x93\\xf7%B\\xf1$U0\\xba\\x1a\\x0b\\xbbbx\\x03}\\xae\\x94jz\\xe0~o\\xec\\xb9\\xad\\xdd\\xafC\\x8f\\x191\\x94\\xdbnuL-\\x9e\\x19\\'c\\x9e\\xe2I\\x8d\\xc3u\\xdc\\xf4:{}\\x97=\\xf6\\xfa\\x8a8\\x9c\\xf9\\x9e\\xd2\\x1cy7@}q\\xd1t\\xa9\\xeaM\\x15\\xb8\\xc4\\xe97\\xf0\\t$\\x0cj\\xb8U\\x95sU3\\x0fq\\xc1\\xe4\\tQ\\xbf\\xd2\\xd6I\\xda\\xa9z\\xa65\\x02\\xaa\\xa4K\\x1ca\\x84\\xe1\\xa7\\x9b\\xf1\\xdb\\xfc\\xaa\\xd9V\\xfd\\xa5\\x9a*\\nYh\\xe3\\xcf\\x16|\\x12\\xd24h\\xc6\\t\\xd7\\xd8\\xaa\\x89]\\x18\\xf8\\xe1\\xe5\\x92^\\x91)&\\x82\\xac\\xcc\\x92M\\x08\\x12\\x13B\\x0cI\\xa4\\x9a &\\x92c\\x92\\x06\\x98I0\\x890\\x13\\x08\\n@ `)\\x80\\x90\\x1a\\x81\\xd4\\xf2\\xf5]:+%\\xc6\\xac\\xb4\\xc7J\\xf65\\xdc\\x9d/\\x90\\x1f\\xbe\\xaadE\\xafA\\xd8:\\xf6\\\\lQ[\\xa5\\xc14\\xe7\\x86\\xf68\\xea\\xe6\\xf3o\\xee>\\x8awK\\x15+$\\x92/\\xe1\\x0e\\x8c\\xbd\\xdb\\xc2H^\\xe6\\x8c\\xf7\\xc3V\\xfe\\xc8YYo\\xd9\\xbah\\x1f\\x8d\\xea\\xfa\\x8a\\x82\\xe9\\xdb\\xff\\x00$mn\\xe8\\x07\\xd3\\x0f\\xc7\\xd5s+*.t\\xcfxt\\xa3xh\\\\\\xed\\x08\\\\\\xf9Me\\xd3\\xb3\\x8b\\x93\\xf1\\xed\\x16\\xd3\\xc7n\\xa5sw\\xa6pw\\x97\\x86\\xf2H\\x07\\xdf\\xd9r\\xaa*\\x1f3\\x9d\\x1d+\\x0f\\x18\\x83\\xc3k}\\x13|\\xb7K\\x95Sa\\x8aI&\\x90\\x8d\\xd0\\xd6\\x05\\xd0\\xb8[\\xd9\\xb2V\\xe9k+ed\\x97:\\x88\\x9d\\r4m\\xd7p\\xb8a\\xcf\\'\\xd0\\x13\\xf5![\\x0e=\\xd5yy\\xb54\\xf3Z\\x99\\xe6\\xa9\\x95\\xd3TJ\\xe9dw78\\xe4\\x95\\x84\\xae\\x8ctB\\xa0n\\xb1\\xc5\\xb2\\x9e@\\xf2+V\\xaa\\x92zS\\x89\\xe2s=H\\xd0\\xfdV\\xdasomd\\x1eI\\x90\\x91P\\x12\\x11\\x84 \\x10\\x84 \\xc4\\x9a\\x02\\x11\\x011\\xc9$\\xc7$\\rL\\x05\\x10\\xb2\\xc1\\x11\\x9afD\\xdf\\x9aG\\x06\\x8f\\xa9\\xc2\\x0e\\xd5\\xa3f+.Mk\\xc4\\x90\\xc2\\xc2\\xc0\\xff\\x006K\\xb0s\\x8d=q\\xddvF\\xcc\\xda\\xe8\\xe4lu\\x12\\xcdU)\\xfc9\\xdco\\xe9\\xaf\\xea\\xb7-\\x95\\x8c\\xa6\\x92\\xbd\\xe4\\xe01\\x91\\xb5\\xa0v\\x03\\x01t\\xf6d\\xcbJ\\xd7_n\\x14\\r\\x99\\x93<2\\x8c\\xc9\\x9c\\xef\\x0c\\xef<\\x0e\\xc3@\\x0f|\\xe1_-c\\x8e\\xea0\\x99re\\xf3\\x12\\xa8\\xd9\\xaa\\xcb\\\\{\\xf6\\xfa*9\\x1b\\xd7\\xc1\\x9d\\xe7\\xb4z\\xe4\\x02~\\x99Z\\xd4\\xa6H\\xe1\\x9a\\xb2\\xa0\\x92\\xe6\\x82\\x18\\xd2y\\x15b\\xb5B\\xda\\x89\\xbcU\\xa2\\xe0a!\\xc4\\x9ai\\xfc\\xcc\\xcf\\xa1\\xe6?U\\x92\\xf5G=\\xf29 \\xa8o\\x86\\xac\\xdd\\xc4r\\x86\\xe5\\x87\\xdc\\xf5\\xfd\\x96X\\xf3\\x7fM\\xf9?\\xcf\\xed\\xc5\\xd1\\xd9\\xc9#;\\x07i\\xb7T\\xbc\\xb2\\xaew\\xbe\\xa6\\x19t\\xc4!\\xd2;t\\x9f}G\\xd5F\\xbfg*\\xaa*\\xf3\\xfc\\xb71\\xc3\\xcf/A\\x8fN\\xea\\xefh\\xb4\\xdb\\xdbG\\x0b\\xa2dr9\\x91\\xb6 q\\xf2\\x800\\x1b\\x85\\xd3u4\\x10\\xc6Io\\xca2\\x1a\\x14\\xdc&Wjc\\xc9\\x96\\x13J5=-\\x93f\\xec\\xb5\\x17\\x10\\x1c\\x1d\\x1b\\x7f\\x9c\\xf9\\x07\\x9f=\\x00\\xf7\\xd3\\x0b\\xc66\\x82\\xe7=\\xf2\\xe7%eG\\x94\\x13\\x88\\xe3\\x07H\\xdb\\xd0\\x0f\\xf7R\\xae\\x7f\\x15\\xaf\\xbe:\\xe8\\xdb]3\\x9a\\xdajS\\x87\\x86\\x9d\\x1d\\'_\\xb7/}\\xe5Ds48\\xc9>\\xcbY54\\xc7+\\xbb\\xba\\xd6\\xc6\\xeb\\xc6\\xee\\x84j\\x0fe\\xd5\\xa6\\xba5\\xed\\xe1\\xd40o\\x1ed\\x8c\\x82\\xb9o\\xcbO\\x98\\x10\\xa2\\xd6\\xe7\\x98D:\\x95\\x96\\x9a\\n\\xa1\\x96\\xc7\\xe1\\xe4?\\x8a>_nJ\\xbf_j\\xa8\\xa39\\xcb%\\x8f\\xf3\\xc6\\x7f\\xa8\\xe8\\xbaL\\x91\\xf1\\xb4\\xb5\\xae \\x1e\\x8b\\x05[\\xe5\\x9c\\xe1\\xa026\\x8e\\xfc\\x92\\xc9S-\\x8e*K$\\xa3\\x12\\x109,ef\\xd0!<!\\x06\\x14\\xd2M\\x10\\x13\\x1c\\x92LrA \\xba\\x9b<\\xd3\\xfcR7\\xf0\\xf7\\xc3\\x03\\x9cO\\xe5\\xd3B\\xb9m\\xd5z\\x7f\\xc2k,5u<*\\xe8\\xbc\\xb21\\xf3\\xca\\xc7\\xb7\\xe6\\x8d\\x80``\\xf4\\xc9\\xcf\\xa8S\\x11[{\\x11\\xb1\\x92\\xed\\x15D\\xf5\\xd5\\xc1\\xed\\xb5\\xe7\\x18\\x0e\\xdduC\\x81\\xf9Zz\\x0e\\xee\\xfa\\ryZ6\\x9a{D5\\xb0\\xc7Y0;\\x8c\\x0c\\x8e\\x1a`\\x03)\\x83t\\x03\\xd7\\xa0\\xd7\\xb2\\xb2V\\xd7G\\xc3!\\xa1\\xb1@\\xd0\\x19\\x1b#\\x18\\xdc\\xf58\\xd3\\x03\\xb2\\xa3\\\\\\xecv\\xd6\\xd3TI\\r\\xf2&\\x97\\x10\\xe9x\\xac\\x0f k\\x9c\\x00AX\\xe7\\x97\\xdb\\xab\\x87\\x1f\\x8e\\xdbv\\xea\\r\\x96|bh\\xe5\\x98JA\\xd3\\x8cZ3\\xdf\\x9f\\xf8]{L3\\xc6G\\x0e\\xbd\\x92\\xb0rk\\xf9\\xe1Q\\xa1\\xb6\\xd8x\\x86i/sL\\xd0?\\x0cm\\x03\\xd0u\\xc2\\xec\\xdb\\xe5\\xd9\\xday8\\x91\\xd6N\\xf3\\x8c\\x06:@\\x1a>\\xd8L\\xb1_\\x0b\\xec^(\\xebg\\xa3\\x9f\\x88\\xd6\\xb7\\x9f\\x99\\x80\\xe8\\xe0\\xb66\\xb3i)\\xed\\xfb/[]\\x14\\x9b\\xb5$p\\xe1i\\xf9\\x84\\x8e\\xe5\\xf6\\xd4\\xfd\\x15j\\x86\\xa5\\x8f\\xc3\\xa3\\x88\\xc6\\xcfW~\\xcbr\\xa2\\x1a+\\x953\\xa0\\xac\\x80M\\x1b\\xb9\\x82\\xdf\\xd7=\\x14a\\x9f\\xcdS\\x93\\x8ee\\xe3\\xc4\\xaa\\x0b\\xe5\\x94J\\\\\\xf7;\\xa9=O2s\\xdc\\x95\\x1d\\xf3\\x8f8\\xd1[\\xb6\\xafc+6~&V\\xc6\\x1d5\\xba_\\x96\\\\k\\x17`\\xff\\x00\\xd8\\xf2*\\xa6\\xef3\\xbf\\xa0]sVm\\xc5X\\xc3C\\xb5w>\\x9e\\x8a\\x12\\x98\\xe1f\\xf3\\x8e\\x81e\\x91\\xe26\\xe4\\xaeT\\x8fuL\\xe3#1\\xb7\\x98\\xee\\x94I\\xd5\\x12\\xcb\\x91\\x13\\x0f\\xbfe\\x81\\xce-$9\\xe5\\xef<\\xc0:\\x05\\xb13C\\x9a\\x07\\x0f\\x00t\\xde\\xc0\\x0b\\x06\\xebZ0\\x06\\xf7\\xb6\\x81BZ\\xd2\\xe7\\x7fQ\\x8ctX\\xca\\xcb>L\\xa4\\x91\\x85\\x8dR\\xae2\\x84\\xb0\\x84\\x18\\x93@B\\x80&\\x12Y\\xa9#\\x12\\xd5C\\x13\\xb3\\xba\\xf9\\x1a\\xd3\\x8e\\xc4\\xa0\\xdf\\xb3\\xdb\\x85K\\xc4\\xd5\\rw\\x85i\\xc1\\xe9\\xbe{\\x0f\\xddzO\\xc3\\xcb\\xa44\\xfb[N\\xf9\\xdc\\xd6\\xc3Q\\x14\\x94\\xe0z\\x11\\xa0\\xfd0\\xa9\\xf5\\xee\\xe1\\xc8`\\x8c\\x06\\xc7\\x0c{\\xach\\xe8\\t\\xc1Z<w\\xf0\\xc4\\xf9\\xc4\\x91\\xc8\\xd2\\xc2:`\\xe8\\xb4\\xd6\\xa3=\\xee\\xedr\\xbb\\xd5\\xdf\\x1bY_M\\x1b\\xcb\\x98\\xd9]\\x1b\\xf7\\x88\\x0c\\x00\\x1cd\\xb8\\xf2\\xc8\\xd5V\\xf8\\x12\\xd6\\xcc\\xf6\\xd01\\xd2C\\x19\\r\\xe28\\x86\\xe9\\xdc\\xfb\\xf3[_\\x10+\\xaa%\\xb9D\\xd7\\xc8Hu,O#\\xd5\\xc3U\\xc9\\xa4\\xaa\\x96\\x0b$\\xcf\\x8c\\x80\\xe7LA8\\xf4\\n\\xb8\\xe1\"\\xf9glg\\xae\\xa9\\x14\\xf4\\xfe\\n\\x17\\x87\\x10w\\xa5p\\xea{\\x0fE\\xe8?\\x0e\\xed\\xf6\\xe96q\\xbf\\xc4\\x01\\x9a9^\\xf7>\\x124np7\\x87Pp\\x06\\xa0\\x85\\xe4\\xa0\\x9c\\x9c\\x92}\\xd7\\xb5l\\xf6(\\xe8)\\xd9L\\xd1\\x18ynq\\xff\\x00U4\\x9d:r\\xec\\x94\\xfe\\x1d\\xcf\\xb3^\\x18\\xe8\\xff\\x00\\x03j#\\xc8\\xc6?3O\\xeb\\x85=\\x95\\x96\\xb2\\xa6\\xe2-\\xf5\\x90\\x06p\\xb3\\xc6!\\xdc\\xb7y\\x8f\\xaeF\\xbe\\xaa\\xddCO\\x15=\\xa2y#`\\xc8k\\x9d\\x83\\xcb vTO\\x85wZ\\x9b\\xb5\\xb6;\\x85^\\xe1\\xaa-1=\\xedn7\\xf0\\xeeg\\xd7\\xd9R\\xe1-^re%t~/m#-\\xd6Af\\xa7x\\xf1U\\xed\\xfe`\\x03\\xe4\\x84\\x1d\\x7f\\xf5\\x8d\\xd1\\xf5^*$\\x039\\xe7\\x85\\xbd\\xb5w\\x1a\\x9b\\x9e\\xd1\\xdc*j\\xdf\\xbd\\'\\x1d\\xcc\\x18\\xe4\\xd6\\xb4\\xe0\\x01\\xe9\\x80\\xb9Y\\xc8>\\xcbY\\xd3\\x06\\x9dL\\xceqq\\'N^\\xcb%\\x03\\x08\\x8f\\xdfR\\xb1\\\\\\x1a\\x1b\\x82\\xdd2\\xdc\\x95\\xb3\\x11\\xdc\\xa7i\\x00eB\\x7fI=\\x80\\x8dFV\\xac\\xd1\\xb0\\rC\\x1a;\\xe3U\\x96W8\\xbc\\x00\\xe23\\xd9c|L\\x038\\xc9\\xeeu(4\\'\\xdd\\xe2\\x1d\\xdeJ\\ns\\x7f\\xf5r\\x82\\xa5hHR\\xc0IB_\\xff\\xd9'"
      ]
     },
     "execution_count": 61,
     "metadata": {},
     "output_type": "execute_result"
    }
   ],
   "source": [
    "requests.get(image_tag[0]['src']).content"
   ]
  },
  {
   "cell_type": "code",
   "execution_count": 47,
   "id": "999e1225",
   "metadata": {},
   "outputs": [],
   "source": [
    "for img in image_tag:\n",
    "    image_url = img['src']\n",
    "    image_data = requests.get(image_url).content\n",
    "    \n",
    "    with open(os.path.join(save_dir, f'{query}_{image_tag.index(img)}.jpg'), \"wb\") as f:\n",
    "        f.write(image_data)"
   ]
  },
  {
   "cell_type": "markdown",
   "id": "8eb2667f",
   "metadata": {},
   "source": []
  },
  {
   "cell_type": "code",
   "execution_count": null,
   "id": "a952b738",
   "metadata": {},
   "outputs": [],
   "source": []
  }
 ],
 "metadata": {
  "kernelspec": {
   "display_name": "Python 3 (ipykernel)",
   "language": "python",
   "name": "python3"
  },
  "language_info": {
   "codemirror_mode": {
    "name": "ipython",
    "version": 3
   },
   "file_extension": ".py",
   "mimetype": "text/x-python",
   "name": "python",
   "nbconvert_exporter": "python",
   "pygments_lexer": "ipython3",
   "version": "3.8.17"
  }
 },
 "nbformat": 4,
 "nbformat_minor": 5
}
